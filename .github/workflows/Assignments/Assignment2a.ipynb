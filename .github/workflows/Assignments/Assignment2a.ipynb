{
 "cells": [
  {
   "cell_type": "code",
   "execution_count": null,
   "metadata": {
    "vscode": {
     "languageId": "plaintext"
    }
   },
   "outputs": [],
   "source": [
    "import torch\n",
    "from torchvision import transforms, models\n",
    "from captum.attr import IntegratedGradients, LayerGradCam\n",
    "from captum.attr import visualization as viz\n",
    "import matplotlib.pyplot as plt\n",
    "import numpy as np\n",
    "from PIL import Image\n",
    "\n",
    "# Load the pre-trained model (Assuming it's a ResNet or similar CNN model)\n",
    "model = models.resnet18(pretrained=True)\n",
    "model.eval()\n",
    "\n",
    "# Preprocessing function for input images\n",
    "preprocess = transforms.Compose([\n",
    "    transforms.Resize((224, 224)),\n",
    "    transforms.ToTensor(),\n",
    "    transforms.Normalize(mean=[0.485, 0.456, 0.406], std=[0.229, 0.224, 0.225])\n",
    "])\n",
    "\n",
    "# Load and preprocess an example image\n",
    "def process_image(image_path):\n",
    "    image = Image.open(image_path)\n",
    "    input_tensor = preprocess(image).unsqueeze(0)\n",
    "    return input_tensor\n",
    "\n",
    "# Replace 'path_to_image' with the actual path of the test image\n",
    "input_image = process_image('path_to_image')\n"
   ]
  },
  {
   "cell_type": "markdown",
   "metadata": {},
   "source": [
    "#### Integrated Gradients\n",
    "Integrated Gradients is an attribution method designed to highlight the important features of the input image that contribute to the model's classification. It works by integrating gradients along the path from a baseline (e.g., black image) to the input image. This method is particularly useful for visualizing how much each pixel contributes to the model's decision.\n"
   ]
  },
  {
   "cell_type": "code",
   "execution_count": null,
   "metadata": {
    "vscode": {
     "languageId": "plaintext"
    }
   },
   "outputs": [],
   "source": [
    "# Initialize Integrated Gradients with the model\n",
    "ig = IntegratedGradients(model)\n",
    "\n",
    "# Compute attributions\n",
    "attributions, delta = ig.attribute(input_image, target=0, baselines=input_image * 0, return_convergence_delta=True)\n",
    "\n",
    "# Visualize the attributions\n",
    "_ = viz.visualize_image_attr(attributions.squeeze().cpu().detach().numpy().transpose(1, 2, 0),\n",
    "                             method=\"heat_map\", sign=\"all\", show_colorbar=True, title=\"Integrated Gradients\")\n"
   ]
  },
  {
   "cell_type": "markdown",
   "metadata": {},
   "source": [
    "#### Grad-CAM\n",
    "Grad-CAM (Gradient-weighted Class Activation Mapping) is another method to visualize a model's attention areas by back-propagating gradients and computing their influence on certain convolutional layers. This is useful for identifying spatial features in CNN models and visualizing which parts of the image are important for a particular class.\n"
   ]
  },
  {
   "cell_type": "code",
   "execution_count": null,
   "metadata": {
    "vscode": {
     "languageId": "plaintext"
    }
   },
   "outputs": [],
   "source": [
    "# Select the target layer in the model (usually the last convolutional layer)\n",
    "target_layer = model.layer4[1].conv2\n",
    "\n",
    "# Initialize Grad-CAM with the model and target layer\n",
    "grad_cam = LayerGradCam(model, target_layer)\n",
    "\n",
    "# Compute Grad-CAM attributions\n",
    "attributions = grad_cam.attribute(input_image, target=0)\n",
    "\n",
    "# Upsample and visualize the Grad-CAM heatmap\n",
    "_ = viz.visualize_image_attr(attributions[0].cpu().detach().numpy(),\n",
    "                             method=\"blended_heat_map\", sign=\"all\", show_colorbar=True, title=\"Grad-CAM\")\n"
   ]
  },
  {
   "cell_type": "markdown",
   "metadata": {},
   "source": [
    "V### Analysis\n",
    "From the above visualizations:\n",
    "1. **Integrated Gradients** provides a pixel-level attribution, where we can observe fine-grained details about the areas contributing to the classification.\n",
    "2. **Grad-CAM** produces a more generalized heatmap, highlighting spatial regions that the model focused on, which can help identify overall regions of interest in the image.\n",
    "\n",
    "These two methods complement each other: Integrated Gradients gives a detailed pixel-level insight, while Grad-CAM shows broader regions of attention.\n"
   ]
  }
 ],
 "metadata": {
  "language_info": {
   "name": "python"
  }
 },
 "nbformat": 4,
 "nbformat_minor": 2
}
