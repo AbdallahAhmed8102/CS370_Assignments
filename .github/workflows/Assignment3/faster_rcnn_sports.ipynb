{
 "cells": [
  {
   "cell_type": "code",
   "execution_count": null,
   "metadata": {},
   "outputs": [],
   "source": [
    "import torch\n",
    "from torchvision.models.detection import fasterrcnn_resnet50_fpn\n",
    "from torchvision.transforms import functional as F\n",
    "import cv2\n",
    "import matplotlib.pyplot as plt\n",
    "import numpy as np\n"
   ]
  },
  {
   "cell_type": "code",
   "execution_count": null,
   "metadata": {},
   "outputs": [],
   "source": [
    "# Load Faster R-CNN model pretrained on COCO dataset\n",
    "model = fasterrcnn_resnet50_fpn(pretrained=True)\n",
    "model.eval()  # Set model to evaluation mode\n",
    "\n",
    "# Load COCO class names (ID 1: person, ID 37: sports ball)\n",
    "COCO_CLASSES = {1: \"person\", 37: \"sports ball\"}\n"
   ]
  },
  {
   "cell_type": "code",
   "execution_count": null,
   "metadata": {},
   "outputs": [],
   "source": [
    "# Path to the video\n",
    "video_path = 'https://www.youtube.com/watch?v=vUnuDTVHwGE&t=1s'  \n",
    "\n",
    "# Load video\n",
    "cap = cv2.VideoCapture(video_path)\n",
    "frame_rate = cap.get(cv2.CAP_PROP_FPS)\n",
    "\n",
    "frames = []\n",
    "frame_indices = []\n",
    "\n",
    "# Extract every 30th frame for processing\n",
    "frame_id = 0\n",
    "while True:\n",
    "    ret, frame = cap.read()\n",
    "    if not ret:\n",
    "        break\n",
    "    if frame_id % 30 == 0:  # Take every 30th frame\n",
    "        frames.append(cv2.cvtColor(frame, cv2.COLOR_BGR2RGB))  # Convert to RGB\n",
    "        frame_indices.append(frame_id)\n",
    "    frame_id += 1\n",
    "\n",
    "cap.release()\n",
    "\n",
    "# Show one example frame\n",
    "plt.imshow(frames[0])\n",
    "plt.axis(\"off\")\n",
    "plt.title(f\"Example Frame (Frame {frame_indices[0]})\")\n",
    "plt.show()\n"
   ]
  },
  {
   "cell_type": "code",
   "execution_count": null,
   "metadata": {},
   "outputs": [],
   "source": [
    "# Function to run Faster R-CNN on a single frame\n",
    "def detect_objects(model, frame, threshold=0.5):\n",
    "    # Convert frame to tensor\n",
    "    frame_tensor = F.to_tensor(frame).unsqueeze(0)\n",
    "    \n",
    "    # Perform inference\n",
    "    with torch.no_grad():\n",
    "        detections = model(frame_tensor)[0]\n",
    "    \n",
    "    # Filter detections by score threshold\n",
    "    boxes, labels, scores = [], [], []\n",
    "    for i in range(len(detections[\"scores\"])):\n",
    "        if detections[\"scores\"][i] >= threshold:\n",
    "            boxes.append(detections[\"boxes\"][i].numpy())\n",
    "            labels.append(detections[\"labels\"][i].item())\n",
    "            scores.append(detections[\"scores\"][i].item())\n",
    "    \n",
    "    return boxes, labels, scores\n"
   ]
  },
  {
   "cell_type": "code",
   "execution_count": null,
   "metadata": {},
   "outputs": [],
   "source": [
    "# Visualization function\n",
    "def visualize_detections(frame, boxes, labels, scores, class_map):\n",
    "    for box, label, score in zip(boxes, labels, scores):\n",
    "        label_name = class_map.get(label, \"Unknown\")\n",
    "        x1, y1, x2, y2 = map(int, box)\n",
    "        cv2.rectangle(frame, (x1, y1), (x2, y2), (0, 255, 0), 2)\n",
    "        cv2.putText(frame, f\"{label_name} {score:.2f}\", \n",
    "                    (x1, y1 - 10), cv2.FONT_HERSHEY_SIMPLEX, \n",
    "                    0.5, (0, 255, 0), 2)\n",
    "    return frame\n"
   ]
  },
  {
   "cell_type": "code",
   "execution_count": null,
   "metadata": {},
   "outputs": [],
   "source": [
    "# Run detection on the first frame\n",
    "sample_frame = frames[0]\n",
    "boxes, labels, scores = detect_objects(model, sample_frame, threshold=0.5)\n",
    "\n",
    "# Visualize detections\n",
    "output_frame = sample_frame.copy()\n",
    "output_frame = visualize_detections(output_frame, boxes, labels, scores, COCO_CLASSES)\n",
    "\n",
    "\n",
    "plt.imshow(output_frame)\n",
    "plt.axis(\"off\")\n",
    "plt.title(\"Detections\")\n",
    "plt.show()\n"
   ]
  },
  {
   "cell_type": "code",
   "execution_count": null,
   "metadata": {},
   "outputs": [],
   "source": [
    "\n",
    "output_frames = []\n",
    "for frame in frames:\n",
    "    boxes, labels, scores = detect_objects(model, frame, threshold=0.5)\n",
    "    output_frame = frame.copy()\n",
    "    output_frame = visualize_detections(output_frame, boxes, labels, scores, COCO_CLASSES)\n",
    "    output_frames.append(cv2.cvtColor(output_frame, cv2.COLOR_RGB2BGR))  # Convert back to BGR\n",
    "\n",
    "output_video_path = 'output_video.avi'\n",
    "fourcc = cv2.VideoWriter_fourcc(*'XVID')\n",
    "out = cv2.VideoWriter(output_video_path, fourcc, frame_rate, (output_frames[0].shape[1], output_frames[0].shape[0]))\n",
    "\n",
    "for frame in output_frames:\n",
    "    out.write(frame)\n",
    "out.release()\n",
    "print(f\"Output video saved at {output_video_path}\")\n"
   ]
  },
  {
   "cell_type": "markdown",
   "metadata": {},
   "source": [
    "## Faster R-CNN Workflow\n",
    "\n",
    "1. **Region Proposal Network (RPN)**:\n",
    "   - Proposes regions where objects might be located.\n",
    "2. **Feature Pyramid Network (FPN)**:\n",
    "   - Extracts features at different scales for accurate detection.\n",
    "3. **RoI Pooling**:\n",
    "   - Converts region proposals into fixed-size inputs for classification.\n",
    "4. **Classification and Bounding Box Regression**:\n",
    "   - Classifies objects and refines bounding boxes.\n",
    "\n",
    "We demonstrated each stage visually through bounding boxes and labels.\n"
   ]
  }
 ],
 "metadata": {
  "kernelspec": {
   "display_name": "Python 3",
   "language": "python",
   "name": "python3"
  },
  "language_info": {
   "codemirror_mode": {
    "name": "ipython",
    "version": 3
   },
   "file_extension": ".py",
   "mimetype": "text/x-python",
   "name": "python",
   "nbconvert_exporter": "python",
   "pygments_lexer": "ipython3",
   "version": "3.11.5"
  }
 },
 "nbformat": 4,
 "nbformat_minor": 2
}
